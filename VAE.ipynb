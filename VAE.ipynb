{
 "cells": [
  {
   "cell_type": "markdown",
   "metadata": {},
   "source": [
    "VAE with disentanglement"
   ]
  },
  {
   "cell_type": "code",
   "execution_count": 121,
   "metadata": {},
   "outputs": [],
   "source": [
    "from __future__ import print_function\n",
    "import argparse\n",
    "import torch\n",
    "import torch.utils.data\n",
    "from torch import nn, optim\n",
    "from torch.nn import functional as F\n",
    "from torchvision import datasets, transforms\n",
    "from torchvision.utils import save_image\n",
    "import matplotlib.pyplot as plt\n",
    "\n",
    "batchsize = 128\n",
    "epochs=10\n",
    "loginterval=10\n",
    "cuda = torch.cuda.is_available()\n",
    "\n",
    "SEED = 1\n",
    "torch.manual_seed(SEED)\n",
    "\n",
    "device = torch.device(\"cuda\" if cuda else \"cpu\")\n",
    "\n",
    "kwargs = {'num_workers': 4, 'pin_memory': True} if cuda else {}\n",
    "train_loader = torch.utils.data.DataLoader(\n",
    "    datasets.MNIST('../data', train=True, download=True,\n",
    "                   transform=transforms.ToTensor()),\n",
    "    batch_size=batchsize, shuffle=True, **kwargs)\n",
    "test_loader = torch.utils.data.DataLoader(\n",
    "    datasets.MNIST('../data', train=False, transform=transforms.ToTensor()),\n",
    "    batch_size=batchsize, shuffle=True, **kwargs)"
   ]
  },
  {
   "cell_type": "code",
   "execution_count": 122,
   "metadata": {},
   "outputs": [],
   "source": [
    "class VAE(nn.Module):\n",
    "    def __init__(self):\n",
    "        super(VAE, self).__init__()\n",
    "\n",
    "        # create using nn.Sequential()\n",
    "        # decoder :FC (20 -> 400), RELU activation; FC (400, 784)\n",
    "        self.decoder = nn.Sequential(\n",
    "          nn.Linear(20,400),\n",
    "          nn.ReLU(),\n",
    "          nn.Linear(400,784)\n",
    "        )\n",
    "        # and without using nn.Sequential, an encoder\n",
    "        #FC (784 -> 400), RELU activation\n",
    "        # then in parallel a FC (400, 20) for each mu / logvar\n",
    "        #self.encoder = nn.Sequential(\n",
    "         # nn.Linear(784,400),\n",
    "         # nn.ReLU(),\n",
    "         # nn.Linear(400,20)\n",
    "        #)\n",
    "        self.fc1 = nn.Linear(784, 400)\n",
    "        self.relu = nn.ReLU()\n",
    "        self.fc21 = nn.Linear(400, 20)\n",
    "        self.fc22 = nn.Linear(400, 20)\n",
    "\n",
    "        \n",
    "            \n",
    "    def encode(self, x):\n",
    "        h1 = self.relu(self.fc1(x))\n",
    "        mu = self.fc21(h1)\n",
    "        logvar = self.fc22(h1)\n",
    "        return mu, logvar\n",
    "\n",
    "    def reparameterize(self, mu, logvar):\n",
    "        # sample\n",
    "        std = torch.exp(0.5*logvar)\n",
    "        eps = torch.randn_like(std)\n",
    "        \n",
    "        return eps.mul(std).add_(mu)\n",
    "\n",
    "    def decode(self, z):\n",
    "        return torch.sigmoid(self.decoder(z))\n",
    "\n",
    "    def forward(self, x):\n",
    "        mu, logvar = self.encode(x.view(-1, 784))\n",
    "        z = self.reparameterize(mu, logvar)\n",
    "        return self.decode(z), mu, logvar\n",
    "\n",
    "model = VAE().to(device)\n",
    "optimizer = optim.Adam(model.parameters(), lr=1e-3)"
   ]
  },
  {
   "cell_type": "code",
   "execution_count": 123,
   "metadata": {},
   "outputs": [],
   "source": [
    "def loss_function(recon_batch, x, mu, logvar, beta):\n",
    "    # compute binary cross entropy summed across the batch\n",
    "    bce = F.binary_cross_entropy(recon_batch, x.view(-1, 784), reduction='sum')\n",
    "    kld = -0.5*torch.sum(1+logvar - mu.pow(2) - logvar.exp())\n",
    "    # the beta factor allows disentanglement for values >>1\n",
    "    return bce+kld*beta"
   ]
  },
  {
   "cell_type": "code",
   "execution_count": 124,
   "metadata": {},
   "outputs": [],
   "source": [
    "losses = []\n",
    "def train(epoch, beta):\n",
    "    model.train()\n",
    "    train_loss = 0\n",
    "    for batch_idx, (data, _) in enumerate(train_loader):\n",
    "        data = data.to(device)\n",
    "        optimizer.zero_grad()\n",
    "        recon_batch, mu, logvar = model(data)\n",
    "        loss = loss_function(recon_batch, data.view(-1, 784), mu, logvar, beta)\n",
    "        losses.append(loss.cpu().item())\n",
    "        loss.backward()\n",
    "        train_loss += loss.item()\n",
    "        optimizer.step()\n",
    "        if batch_idx % loginterval == 0:\n",
    "            print('\\r Train Epoch: {} [{}/{} ({:.0f}%)]\\tLoss: {:.1f}'.format(\n",
    "                epoch, batch_idx * len(data), len(train_loader.dataset),\n",
    "                100. * batch_idx / len(train_loader),\n",
    "                loss.item() / len(data)), end='')\n",
    "\n",
    "    print(' Average loss: {:.1f}'.format(\n",
    "         train_loss / len(train_loader.dataset)), end='')"
   ]
  },
  {
   "cell_type": "code",
   "execution_count": 125,
   "metadata": {},
   "outputs": [],
   "source": [
    "def test(epoch, beta):\n",
    "    model.eval()\n",
    "    test_loss = 0\n",
    "    with torch.no_grad():\n",
    "        for i, (data, _) in enumerate(test_loader):\n",
    "            data = data.to(device)\n",
    "            recon_batch, mu, logvar = model(data)\n",
    "            test_loss += loss_function(recon_batch, data.view(-1, 784), mu, logvar,beta)\n",
    "\n",
    "            if i == 0:\n",
    "                n = min(data.size(0), 8)\n",
    "                comparison = torch.cat([data[:n],\n",
    "                                      recon_batch.view(batchsize, 1, 28, 28)[:n]])\n",
    "                save_image(comparison.cpu(),\n",
    "                         'results/reconstruction_' + str(epoch) + '.png', nrow=n)\n",
    "\n",
    "    test_loss /= len(test_loader.dataset)\n",
    "    print(' Test loss: {:.1f}'.format(test_loss))"
   ]
  },
  {
   "cell_type": "code",
   "execution_count": 126,
   "metadata": {
    "scrolled": false
   },
   "outputs": [
    {
     "name": "stdout",
     "output_type": "stream",
     "text": [
      " Train Epoch: 1 [58880/60000 (98%)]\tLoss: 197.3 Average loss: 212.0 Test loss: 197.7\n",
      " Train Epoch: 2 [58880/60000 (98%)]\tLoss: 194.1 Average loss: 195.0 Test loss: 192.0\n",
      " Train Epoch: 3 [58880/60000 (98%)]\tLoss: 187.3 Average loss: 190.7 Test loss: 189.0\n",
      " Train Epoch: 4 [58880/60000 (98%)]\tLoss: 186.9 Average loss: 189.0 Test loss: 188.0\n",
      " Train Epoch: 5 [58880/60000 (98%)]\tLoss: 188.9 Average loss: 188.1 Test loss: 186.8\n",
      " Train Epoch: 6 [58880/60000 (98%)]\tLoss: 182.5 Average loss: 187.3 Test loss: 186.5\n",
      " Train Epoch: 7 [58880/60000 (98%)]\tLoss: 186.4 Average loss: 186.9 Test loss: 186.1\n",
      " Train Epoch: 8 [58880/60000 (98%)]\tLoss: 188.0 Average loss: 186.4 Test loss: 185.3\n",
      " Train Epoch: 9 [58880/60000 (98%)]\tLoss: 180.6 Average loss: 186.0 Test loss: 185.5\n",
      " Train Epoch: 10 [58880/60000 (98%)]\tLoss: 189.0 Average loss: 185.5 Test loss: 184.8\n"
     ]
    }
   ],
   "source": [
    "beta = 10\n",
    "for epoch in range(1, epochs + 1):\n",
    "    train(epoch, beta)\n",
    "    test(epoch, beta)\n",
    "    with torch.no_grad():\n",
    "         sample = torch.randn(64, 20).to(device)\n",
    "         sample = model.decode(sample).cpu()\n",
    "         save_image(sample.view(64, 1, 28, 28), 'results/sample_' + str(epoch) + '.png')    "
   ]
  },
  {
   "cell_type": "code",
   "execution_count": 127,
   "metadata": {},
   "outputs": [],
   "source": [
    "# sample = torch.empty(64, 20)\n",
    "\n",
    "# create a batch of 8x8 inputs sampled from normal distribution\n",
    "# observe the image with different values of beta (0, 1, 10, 100)\n",
    "\n",
    "save_image(sample.view(64, 1, 28, 28), 'results/sample_continuous.png')"
   ]
  },
  {
   "cell_type": "code",
   "execution_count": 128,
   "metadata": {
    "scrolled": true
   },
   "outputs": [
    {
     "data": {
      "text/plain": [
       "[<matplotlib.lines.Line2D at 0x7f65200d2400>]"
      ]
     },
     "execution_count": 128,
     "metadata": {},
     "output_type": "execute_result"
    },
    {
     "data": {
      "image/png": "[encoded data removed]",
      "text/plain": [
       "<Figure size 432x288 with 1 Axes>"
      ]
     },
     "metadata": {
      "needs_background": "light"
     },
     "output_type": "display_data"
    }
   ],
   "source": [
    "# plot losses\n",
    "plt.plot(losses)"
   ]
  },
  {
   "cell_type": "code",
   "execution_count": 129,
   "metadata": {},
   "outputs": [
    {
     "ename": "NameError",
     "evalue": "name 'gradients' is not defined",
     "output_type": "error",
     "traceback": [
      "\u001b[0;31m---------------------------------------------------------------------------\u001b[0m",
      "\u001b[0;31mNameError\u001b[0m                                 Traceback (most recent call last)",
      "\u001b[0;32m<ipython-input-129-c0479cf69731>\u001b[0m in \u001b[0;36m<module>\u001b[0;34m\u001b[0m\n\u001b[1;32m      1\u001b[0m \u001b[0;31m#plot the gradient mean value for each FC layer across training\u001b[0m\u001b[0;34m\u001b[0m\u001b[0;34m\u001b[0m\u001b[0m\n\u001b[0;32m----> 2\u001b[0;31m \u001b[0mplt\u001b[0m\u001b[0;34m.\u001b[0m\u001b[0mplot\u001b[0m\u001b[0;34m(\u001b[0m\u001b[0mgradients\u001b[0m\u001b[0;34m)\u001b[0m\u001b[0;34m\u001b[0m\u001b[0m\n\u001b[0m",
      "\u001b[0;31mNameError\u001b[0m: name 'gradients' is not defined"
     ]
    }
   ],
   "source": [
    "#plot the gradient mean value for each FC layer across training\n",
    "plt.plot(gradients)"
   ]
  },
  {
   "cell_type": "code",
   "execution_count": null,
   "metadata": {},
   "outputs": [],
   "source": []
  }
 ],
 "metadata": {
  "kernelspec": {
   "display_name": "Python 3",
   "language": "python",
   "name": "python3"
  },
  "language_info": {
   "codemirror_mode": {
    "name": "ipython",
    "version": 3
   },
   "file_extension": ".py",
   "mimetype": "text/x-python",
   "name": "python",
   "nbconvert_exporter": "python",
   "pygments_lexer": "ipython3",
   "version": "3.6.6"
  }
 },
 "nbformat": 4,
 "nbformat_minor": 2
}
